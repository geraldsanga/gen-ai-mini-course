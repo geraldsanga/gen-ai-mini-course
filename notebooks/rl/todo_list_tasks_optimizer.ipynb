{
 "cells": [
  {
   "cell_type": "markdown",
   "metadata": {},
   "source": [
    "# Smart To-Do List Optimizer with Reinforcement Learning\n",
    "\n",
    "This notebook implements a task optimization system using LangGraph and LLMs to organize, categorize, prioritize, and schedule tasks intelligently."
   ]
  },
  {
   "cell_type": "code",
   "execution_count": 41,
   "metadata": {
    "ExecuteTime": {
     "end_time": "2025-02-25T23:38:22.352020Z",
     "start_time": "2025-02-25T23:38:22.346969Z"
    }
   },
   "outputs": [],
   "source": [
    "from datetime import datetime\n",
    "from typing import Dict, List, Optional, Union, Literal\n",
    "from typing_extensions import TypedDict\n",
    "\n",
    "from langgraph.graph import END, StateGraph\n",
    "from langchain_core.messages import HumanMessage, AIMessage\n",
    "from langchain_core.prompts import ChatPromptTemplate, MessagesPlaceholder\n",
    "from langchain_groq import ChatGroq"
   ]
  },
  {
   "cell_type": "markdown",
   "metadata": {},
   "source": [
    "## Type Definitions\n",
    "\n",
    "Define the structure for our tasks and agent state."
   ]
  },
  {
   "cell_type": "code",
   "execution_count": 42,
   "metadata": {
    "ExecuteTime": {
     "end_time": "2025-02-25T23:38:22.410658Z",
     "start_time": "2025-02-25T23:38:22.405343Z"
    }
   },
   "outputs": [],
   "source": [
    "# Type definitions for our state\n",
    "class Task(TypedDict):\n",
    "    title: str\n",
    "    category: Optional[str]\n",
    "    priority: Optional[str]\n",
    "    status: str\n",
    "    deadline: Optional[str]\n",
    "    scheduled_time: Optional[str]\n",
    "    reasoning: Optional[str]\n",
    "\n",
    "\n",
    "class ModelReward(TypedDict):\n",
    "    threshold: float\n",
    "    overall_comment: str\n",
    "\n",
    "class AgentState(TypedDict):\n",
    "    previous_tasks: List[Task]\n",
    "    current_tasks: List[Task]\n",
    "    optimized_tasks: List[Task]\n",
    "    feedback: Optional[str]\n",
    "    reward: ModelReward"
   ]
  },
  {
   "cell_type": "markdown",
   "metadata": {},
   "source": [
    "## LLM Initialization\n",
    "\n",
    "Setup the language model for task optimization."
   ]
  },
  {
   "cell_type": "code",
   "execution_count": 43,
   "metadata": {
    "ExecuteTime": {
     "end_time": "2025-02-25T23:38:22.419606Z",
     "start_time": "2025-02-25T23:38:22.415326Z"
    }
   },
   "outputs": [],
   "source": [
    "# Initialize the LLM\n",
    "def task_optimizer():\n",
    "    # Replace with your preferred LLM service\n",
    "    llm = ChatGroq(\n",
    "        model=\"llama-3.3-70b-versatile\",  # You can substitute with other models\n",
    "        temperature=0.9\n",
    "    )\n",
    "    # Create prompt\n",
    "    chat_history = [(\"system\", SYSTEM_PROMPT), MessagesPlaceholder(variable_name=\"messages\")] # [(\"human\", TASK_PROCESSING_PROMPT), (\"ai\", \"'sd;fsdjfsdf;\")\n",
    "    prompt = ChatPromptTemplate.from_messages(chat_history)\n",
    "    optimizer = prompt | llm \n",
    "    return optimizer"
   ]
  },
  {
   "cell_type": "markdown",
   "metadata": {},
   "source": [
    "## Prompt Templates\n",
    "\n",
    "Define the system and task processing prompts."
   ]
  },
  {
   "cell_type": "code",
   "execution_count": 44,
   "metadata": {
    "ExecuteTime": {
     "end_time": "2025-02-25T23:38:22.432055Z",
     "start_time": "2025-02-25T23:38:22.427799Z"
    }
   },
   "outputs": [],
   "source": [
    "# Prompts for the agent\n",
    "SYSTEM_PROMPT = \"\"\"You are a Smart To-Do List Assistant. Your role is to help users manage their workflow efficiently by organizing, categorizing, prioritizing, and scheduling their tasks. When a user provides a list of tasks, you should:\n",
    "- Review previously completed and ongoing tasks to understand context and dependencies.\n",
    "- Organize new tasks into relevant categories (e.g., Work, Personal, Health, Finance, Errands).\n",
    "- Assess each task's urgency, deadlines, and overall impact on the user's workflow.\n",
    "- Prioritize and sort the tasks based on their level of importance, ensuring that the most critical tasks are highlighted.\n",
    "- Ensure that deadlines are considered when arranging the tasks to maximize productivity.\n",
    "- Suggest the best **day and time** for each task to be executed based on urgency, workload, and logical order.\n",
    "- Explain **why** each scheduling decision was made, providing a brief rationale.\n",
    "\n",
    "Your output should be JSON-formatted task objects with these fields:\n",
    "- title: The task title\n",
    "- category: The category you've assigned\n",
    "- priority: Priority level (High, Medium, Low)\n",
    "- status: Current status\n",
    "- deadline: Due date if applicable\n",
    "- scheduled_time: Your recommended day and time\n",
    "- reasoning: Brief explanation for your scheduling decision\n",
    "\"\"\"\n",
    "\n",
    "TASK_PROCESSING_PROMPT = \"\"\"\n",
    "Given the following information, optimize the to-do list by categorizing, prioritizing, and scheduling the tasks:\n",
    "\n",
    "Previous Tasks:\n",
    "{previous_tasks}\n",
    "\n",
    "Current Tasks:\n",
    "{current_tasks}\n",
    "\n",
    "Today's date: {current_date}\n",
    "\n",
    "Return ONLY a valid JSON array of task objects with the following structure:\n",
    "[\n",
    "    {{\n",
    "        \"title\": \"Task title\",\n",
    "        \"category\": \"Category\",\n",
    "        \"priority\": \"Priority level\",\n",
    "        \"status\": \"Status\",\n",
    "        \"deadline\": \"Deadline if applicable\",\n",
    "        \"scheduled_time\": \"Suggested day and time\",\n",
    "        \"reasoning\": \"Brief explanation for scheduling\"\n",
    "    }}\n",
    "]\n",
    "\"\"\""
   ]
  },
  {
   "cell_type": "markdown",
   "metadata": {},
   "source": [
    "## Node Functions\n",
    "\n",
    "Define the functions that make up our reinforcement learning graph."
   ]
  },
  {
   "cell_type": "code",
   "execution_count": 45,
   "metadata": {
    "ExecuteTime": {
     "end_time": "2025-02-25T23:38:22.451752Z",
     "start_time": "2025-02-25T23:38:22.444289Z"
    }
   },
   "outputs": [],
   "source": [
    "# Node functions\n",
    "def process_tasks(state: AgentState) -> AgentState:\n",
    "    \"\"\"Process the current tasks and generate an optimized to-do list\"\"\"\n",
    "    # Format tasks for prompt\n",
    "    previous_tasks_str = format_tasks_for_prompt(state[\"previous_tasks\"])\n",
    "    current_tasks_str = format_tasks_for_prompt(state[\"current_tasks\"])\n",
    "\n",
    "    request = HumanMessage(\n",
    "        content=TASK_PROCESSING_PROMPT.format(\n",
    "            previous_tasks=previous_tasks_str,\n",
    "            current_tasks=current_tasks_str,\n",
    "            current_date=datetime.now().strftime(\"%Y-%m-%d\")\n",
    "        )\n",
    "    )\n",
    "\n",
    "    # Get response from LLM\n",
    "    response = task_optimizer().invoke({\"messages\": [request]})\n",
    "    response_text = response.content\n",
    "\n",
    "    # Extract JSON from response\n",
    "    import json\n",
    "    import re\n",
    "\n",
    "    # Look for JSON array in the response\n",
    "    json_match = re.search(r'\\[(.*?)\\]', response_text, re.DOTALL)\n",
    "    if json_match:\n",
    "        try:\n",
    "            optimized_tasks = json.loads(\"[\" + json_match.group(1) + \"]\")\n",
    "            state[\"optimized_tasks\"] = optimized_tasks\n",
    "        except json.JSONDecodeError:\n",
    "            # Fallback if JSON extraction fails\n",
    "            state[\"optimized_tasks\"] = []\n",
    "            state[\"feedback\"] = \"Failed to parse optimized tasks\"\n",
    "    else:\n",
    "        state[\"optimized_tasks\"] = []\n",
    "        state[\"feedback\"] = \"No valid task list found in response\"\n",
    "\n",
    "    return state"
   ]
  },
  {
   "cell_type": "code",
   "execution_count": 46,
   "metadata": {
    "ExecuteTime": {
     "end_time": "2025-02-25T23:38:22.469638Z",
     "start_time": "2025-02-25T23:38:22.456460Z"
    }
   },
   "outputs": [],
   "source": [
    "def evaluate_optimization(state: AgentState) -> AgentState:\n",
    "    \"\"\"Evaluate the quality of the optimization and assign a reward\"\"\"\n",
    "    print(\"Staring evaluation\")\n",
    "    reward = 0.0\n",
    "\n",
    "    if not state[\"optimized_tasks\"]:\n",
    "        state[\"reward\"] = ModelReward(threshold=0.0, overall_comment=\"\")\n",
    "        return state\n",
    "\n",
    "    # Reward for complete processing (all tasks have been scheduled)\n",
    "    if len(state[\"optimized_tasks\"]) >= len(state[\"current_tasks\"]):\n",
    "        reward += 1.0\n",
    "        print(\"Model rewarded because it all tasks have been scheduled\")\n",
    "    else:\n",
    "        reward -= 1.0\n",
    "\n",
    "    # Check for categorization\n",
    "    categories_assigned = all(\"category\" in task and task[\"category\"] for task in state[\"optimized_tasks\"])\n",
    "    if categories_assigned:\n",
    "        reward += 1.0\n",
    "        print(\"Model rewarded because it categorized the task\")\n",
    "    else:\n",
    "        reward -= 1.0\n",
    "\n",
    "    # Check for prioritization\n",
    "    priorities_assigned = all(\"priority\" in task and task[\"priority\"] for task in state[\"optimized_tasks\"])\n",
    "    if priorities_assigned:\n",
    "        reward += 1.0\n",
    "        print(\"Model rewarded because it prioritized the task\")\n",
    "    else:\n",
    "        reward -= 1.0\n",
    "\n",
    "    # Check for scheduling\n",
    "    times_assigned = all(\"scheduled_time\" in task and task[\"scheduled_time\"] for task in state[\"optimized_tasks\"])\n",
    "    if times_assigned:\n",
    "        reward += 1.0\n",
    "        print(\"Model rewarded because it scheduled the task\")\n",
    "    else:\n",
    "        reward -= 1.0\n",
    "\n",
    "    # Check for reasoning\n",
    "    reasoning_provided = all(\"reasoning\" in task and task[\"reasoning\"] for task in state[\"optimized_tasks\"])\n",
    "    if reasoning_provided:\n",
    "        reward += 1.0\n",
    "        print(\"Model rewarded because it optimized task with a reason\")\n",
    "    else:\n",
    "        reward -= 1.0\n",
    "\n",
    "    # Check for deadline consideration\n",
    "    deadline_tasks = [task for task in state[\"current_tasks\"] if \"deadline\" in task and task[\"deadline\"]]\n",
    "    if deadline_tasks:\n",
    "        # Simple check that higher priority is given to tasks with closer deadlines\n",
    "        # (This is a simplification - real deadline checking would be more complex)\n",
    "        high_priority_tasks = [task for task in state[\"optimized_tasks\"]\n",
    "                               if \"priority\" in task and task[\"priority\"] == \"High\"]\n",
    "        deadline_consideration = any(task[\"title\"] in [t[\"title\"] for t in deadline_tasks]\n",
    "                                     for task in high_priority_tasks)\n",
    "        if deadline_consideration:\n",
    "            reward += 1.0\n",
    "        else: \n",
    "             reward -= 1.0\n",
    "        print(\"Model rewarded because it optimized task\")\n",
    "        \n",
    "            \n",
    "            \n",
    "    print(f\"Finished evaluation. Total reward: {reward}\")\n",
    "    \n",
    "\n",
    "    state[\"reward\"] = ModelReward(threshold=reward, overall_comment=\"NOT GOOD\")\n",
    "    return state"
   ]
  },
  {
   "cell_type": "code",
   "execution_count": 47,
   "metadata": {
    "ExecuteTime": {
     "end_time": "2025-02-25T23:38:22.483850Z",
     "start_time": "2025-02-25T23:38:22.476272Z"
    }
   },
   "outputs": [],
   "source": [
    "def format_output(state: AgentState) -> AgentState:\n",
    "    \"\"\"Format the optimized to-do list for user presentation\"\"\"\n",
    "    if not state[\"optimized_tasks\"]:\n",
    "        state[\"feedback\"] = \"Unable to generate an optimized to-do list.\"\n",
    "        return state\n",
    "\n",
    "    output = [\"# Optimized To-Do List\\n\"]\n",
    "\n",
    "    # Group tasks by category\n",
    "    tasks_by_category = {}\n",
    "    for task in state[\"optimized_tasks\"]:\n",
    "        category = task.get(\"category\", \"Uncategorized\")\n",
    "        if category not in tasks_by_category:\n",
    "            tasks_by_category[category] = []\n",
    "        tasks_by_category[category].append(task)\n",
    "\n",
    "    # Format by category\n",
    "    for category, tasks in tasks_by_category.items():\n",
    "        output.append(f\"## {category}\")\n",
    "\n",
    "        # Sort tasks by priority within category\n",
    "        priority_order = {\"High\": 0, \"Medium\": 1, \"Low\": 2}\n",
    "        sorted_tasks = sorted(tasks, key=lambda x: priority_order.get(x.get(\"priority\", \"Low\"), 3))\n",
    "\n",
    "        for task in sorted_tasks:\n",
    "            priority_indicator = \"🔴\" if task.get(\"priority\") == \"High\" else \"🟠\" if task.get(\n",
    "                \"priority\") == \"Medium\" else \"🟢\"\n",
    "            output.append(f\"{priority_indicator} **{task['title']}**\")\n",
    "            output.append(f\"   📅 {task.get('scheduled_time', 'No time specified')}\")\n",
    "            if \"deadline\" in task and task[\"deadline\"]:\n",
    "                output.append(f\"   ⏰ Deadline: {task['deadline']}\")\n",
    "            output.append(f\"   💡 {task.get('reasoning', 'No reasoning provided')}\")\n",
    "            output.append(\"\")\n",
    "\n",
    "    state[\"feedback\"] = \"\\n\".join(output)\n",
    "    return state"
   ]
  },
  {
   "cell_type": "code",
   "execution_count": 48,
   "metadata": {
    "ExecuteTime": {
     "end_time": "2025-02-25T23:38:22.507166Z",
     "start_time": "2025-02-25T23:38:22.500267Z"
    }
   },
   "outputs": [],
   "source": [
    "def format_tasks_for_prompt(tasks: List[Task]) -> str:\n",
    "    \"\"\"Format tasks for inclusion in prompts\"\"\"\n",
    "    if not tasks:\n",
    "        return \"No tasks available.\"\n",
    "\n",
    "    result = []\n",
    "    for task in tasks:\n",
    "        task_str = f\"- {task.get('title', 'Untitled Task')}\"\n",
    "\n",
    "        # Add category if available\n",
    "        if \"category\" in task and task[\"category\"]:\n",
    "            task_str += f\" - {task['category']}\"\n",
    "\n",
    "        # Add priority if available\n",
    "        if \"priority\" in task and task[\"priority\"]:\n",
    "            task_str += f\" - {task['priority']}\"\n",
    "\n",
    "        # Add status\n",
    "        task_str += f\" - {task.get('status', 'Not Started')}\"\n",
    "\n",
    "        # Add deadline if available\n",
    "        if \"deadline\" in task and task[\"deadline\"]:\n",
    "            task_str += f\" - {task['deadline']}\"\n",
    "\n",
    "        result.append(task_str)\n",
    "    \n",
    "    return \"\\n\".join(result)"
   ]
  },
  {
   "cell_type": "code",
   "outputs": [],
   "source": [
    "def should_reprocess(state: AgentState) -> Union[Literal[\"reprocess\"], Literal[\"output\"]]:\n",
    "    \"\"\"Decide whether to reprocess the optimization based on reward\"\"\"\n",
    "    # If the reward is too low, reprocess\n",
    "    if state[\"reward\"].get(\"threshold\") < 5.0:  # Threshold for acceptable optimization\n",
    "        return \"reprocess\"\n",
    "    return \"output\""
   ],
   "metadata": {
    "collapsed": false,
    "ExecuteTime": {
     "end_time": "2025-02-25T23:38:22.520057Z",
     "start_time": "2025-02-25T23:38:22.514277Z"
    }
   },
   "execution_count": 49
  },
  {
   "cell_type": "markdown",
   "metadata": {},
   "source": [
    "## Graph Creation\n",
    "\n",
    "Create the reinforcement learning graph for the to-do list optimizer."
   ]
  },
  {
   "cell_type": "code",
   "execution_count": 50,
   "metadata": {
    "ExecuteTime": {
     "end_time": "2025-02-25T23:38:22.534178Z",
     "start_time": "2025-02-25T23:38:22.528307Z"
    }
   },
   "outputs": [],
   "source": [
    "# Create the graph\n",
    "def create_todo_rl_graph():\n",
    "    \"\"\"Create the StateGraph for the to-do list RL agent\"\"\"\n",
    "    workflow = StateGraph(AgentState)\n",
    "\n",
    "    # Add nodes to the graph\n",
    "    workflow.add_node(\"process_tasks\", process_tasks)\n",
    "    workflow.add_node(\"evaluate\", evaluate_optimization)\n",
    "    workflow.add_node(\"format_output\", format_output)\n",
    "\n",
    "    # Define edges\n",
    "    workflow.add_edge(\"process_tasks\", \"evaluate\")\n",
    "    workflow.add_conditional_edges(\n",
    "        \"evaluate\",\n",
    "        should_reprocess,\n",
    "        {\n",
    "            \"reprocess\": \"process_tasks\",\n",
    "            \"output\": \"format_output\"\n",
    "        }\n",
    "    )\n",
    "    workflow.add_edge(\"format_output\", END)\n",
    "\n",
    "    # Set the entry point\n",
    "    workflow.set_entry_point(\"process_tasks\")\n",
    "\n",
    "    return workflow.compile()"
   ]
  },
  {
   "cell_type": "markdown",
   "metadata": {},
   "source": [
    "## Running the Agent\n",
    "\n",
    "Function to run the to-do list reinforcement learning agent with provided tasks."
   ]
  },
  {
   "cell_type": "code",
   "execution_count": 51,
   "metadata": {
    "ExecuteTime": {
     "end_time": "2025-02-25T23:38:22.558515Z",
     "start_time": "2025-02-25T23:38:22.551066Z"
    }
   },
   "outputs": [],
   "source": [
    "# Example usage\n",
    "def run_todo_rl_agent(previous_tasks: List[Dict], current_tasks: List[Dict]) -> str:\n",
    "    \"\"\"Run the to-do list RL agent with the given tasks\"\"\"\n",
    "    # Initialize the state\n",
    "    initial_state = AgentState(\n",
    "        previous_tasks=previous_tasks,\n",
    "        current_tasks=current_tasks,\n",
    "        optimized_tasks=[],\n",
    "        feedback=None,\n",
    "        reward=ModelReward(threshold=0.0, overall_comment=\"\"),\n",
    "    )\n",
    "    \n",
    "    # Create and run the graph i.e our RL agent\n",
    "    todo_list_rl_agent = create_todo_rl_graph()\n",
    "\n",
    "    # Display the agent\n",
    "    from IPython.display import Image, display\n",
    "\n",
    "    try:\n",
    "        display(Image(todo_list_rl_agent.get_graph(xray=True).draw_mermaid_png()))\n",
    "    except Exception as e:\n",
    "        # This requires some extra dependencies and is optional\n",
    "        print(\"Could not display graph visualization:\")\n",
    "        print(e)\n",
    "        pass\n",
    "    final_state = todo_list_rl_agent.invoke(initial_state)\n",
    "\n",
    "    return final_state[\"feedback\"]"
   ]
  },
  {
   "cell_type": "markdown",
   "metadata": {},
   "source": [
    "## Example Data and Execution\n",
    "\n",
    "Try the to-do list optimizer with example tasks."
   ]
  },
  {
   "cell_type": "code",
   "execution_count": 52,
   "metadata": {
    "ExecuteTime": {
     "end_time": "2025-02-25T23:38:22.571024Z",
     "start_time": "2025-02-25T23:38:22.564083Z"
    }
   },
   "outputs": [],
   "source": [
    "# Example data\n",
    "# Previously completed or ongoing tasks\n",
    "previous_tasks = [\n",
    "    {\n",
    "        \"title\": \"Weekly team meeting\",\n",
    "        \"category\": \"Work\",\n",
    "        \"priority\": \"High\",\n",
    "        \"status\": \"Not Started\"\n",
    "    },\n",
    "    {\n",
    "        \"title\": \"Grocery shopping\",\n",
    "        \"category\": \"Errands\",\n",
    "        \"priority\": \"Medium\",\n",
    "        \"status\": \"Completed\"\n",
    "    },\n",
    "    {\n",
    "        \"title\": \"Update project documentation\",\n",
    "        \"category\": \"Work\",\n",
    "        \"priority\": \"High\",\n",
    "        \"status\": \"In Progress\"\n",
    "    }\n",
    "]\n",
    "\n",
    "# New tasks that need optimization\n",
    "current_tasks = [\n",
    "    {\n",
    "        \"title\": \"Prepare quarterly report\",\n",
    "        \"status\": \"Not Started\",\n",
    "        \"deadline\": \"2025-03-05\"\n",
    "    },\n",
    "    {\n",
    "        \"title\": \"Call dentist for appointment\",\n",
    "        \"status\": \"Not Started\",\n",
    "        \"deadline\": \"2025-02-28\"\n",
    "    },\n",
    "    {\n",
    "        \"title\": \"Fix kitchen sink\",\n",
    "        \"status\": \"Not Started\"\n",
    "    },\n",
    "    {\n",
    "        \"title\": \"Review project proposal\",\n",
    "        \"status\": \"Not Started\",\n",
    "        \"deadline\": \"2025-02-26\"\n",
    "    },\n",
    "    {\n",
    "        \"title\": \"Attend online workshop\",\n",
    "        \"status\": \"Not Started\",\n",
    "        \"deadline\": \"2025-03-01\"\n",
    "    }\n",
    "]"
   ]
  },
  {
   "cell_type": "code",
   "execution_count": 53,
   "metadata": {
    "ExecuteTime": {
     "end_time": "2025-02-25T23:38:26.848893Z",
     "start_time": "2025-02-25T23:38:22.596439Z"
    }
   },
   "outputs": [
    {
     "data": {
      "image/png": "[encoded data removed]",
      "text/plain": "<IPython.core.display.Image object>"
     },
     "metadata": {},
     "output_type": "display_data"
    },
    {
     "name": "stdout",
     "output_type": "stream",
     "text": [
      "Staring evaluation\n",
      "Model rewarded because it all tasks have been scheduled\n",
      "Model rewarded because it categorized the task\n",
      "Model rewarded because it prioritized the task\n",
      "Model rewarded because it scheduled the task\n",
      "Model rewarded because it optimized task with a reason\n",
      "Model rewarded because it optimized task\n",
      "Finished evaluation. Total reward: 6.0\n",
      "# Optimized To-Do List\n",
      "\n",
      "## Work\n",
      "🔴 **Review project proposal**\n",
      "   📅 2025-02-26 09:00\n",
      "   ⏰ Deadline: 2025-02-26\n",
      "   💡 Today is the deadline for the task, so it's essential to complete it as soon as possible to meet the deadline.\n",
      "\n",
      "🔴 **Prepare quarterly report**\n",
      "   📅 2025-03-03 09:00\n",
      "   ⏰ Deadline: 2025-03-05\n",
      "   💡 The task has a deadline in a few days, but it's not as urgent as the review project proposal or call dentist for appointment, so it's scheduled for a few days later to allow for a reasonable amount of time to complete other tasks.\n",
      "\n",
      "🟠 **Attend online workshop**\n",
      "   📅 2025-03-01 09:00\n",
      "   ⏰ Deadline: 2025-03-01\n",
      "   💡 The task is scheduled for the day of the workshop to ensure attendance and minimize conflicts with other tasks.\n",
      "\n",
      "## Errands\n",
      "🟠 **Call dentist for appointment**\n",
      "   📅 2025-02-27 10:00\n",
      "   ⏰ Deadline: 2025-02-28\n",
      "   💡 The task has a relatively near deadline, but it's not as urgent as the review project proposal, so it's scheduled for the next day to allow for a reasonable amount of time to complete other tasks.\n",
      "\n",
      "## Personal\n",
      "🟢 **Fix kitchen sink**\n",
      "   📅 2025-03-02 14:00\n",
      "   💡 The task has no deadline and is of low priority, so it's scheduled for a less busy time to minimize disruptions to more important tasks.\n"
     ]
    }
   ],
   "source": [
    "# Run the agent\n",
    "result = run_todo_rl_agent(previous_tasks, current_tasks)\n",
    "print(result)"
   ]
  }
 ],
 "metadata": {
  "kernelspec": {
   "display_name": "Python 3",
   "language": "python",
   "name": "python3"
  },
  "language_info": {
   "codemirror_mode": {
    "name": "ipython",
    "version": 3
   },
   "file_extension": ".py",
   "mimetype": "text/x-python",
   "name": "python",
   "nbconvert_exporter": "python",
   "pygments_lexer": "ipython3",
   "version": "3.10.12"
  }
 },
 "nbformat": 4,
 "nbformat_minor": 4
}
